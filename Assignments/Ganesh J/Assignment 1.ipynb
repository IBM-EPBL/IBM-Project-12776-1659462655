<?xml version="1.0" encoding="UTF-8"?>
<!DOCTYPE plist PUBLIC "-//Apple//DTD PLIST 1.0//EN" "http://www.apple.com/DTDs/PropertyList-1.0.dtd">
<plist version="1.0">
<dict>
	<key>URL</key>
	<string>https://github.com/IBM-EPBL/IBM-Project-12776-1659462655/blob/main/Assignments/Jerub%20Singh%20Samuel/Assignment%201.ipynb</string>
</dict>
</plist>
