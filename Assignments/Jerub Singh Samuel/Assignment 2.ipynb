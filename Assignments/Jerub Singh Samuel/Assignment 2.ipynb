{
  "cells": [
    {
      "cell_type": "markdown",
      "metadata": {
        "id": "H4qHF3DY_S-7"
      },
      "source": [
        "# 1. Download the dataset: Dataset"
      ]
    },
    {
      "cell_type": "markdown",
      "metadata": {
        "id": "QOSyZlHD_ZxP"
      },
      "source": [
        "Dataset Sucessfully download and uploaded in colab."
      ]
    },
    {
      "cell_type": "markdown",
      "metadata": {
        "id": "6qDhpj04XeNe"
      },
      "source": [
        "## 2. LOADING DATASET"
      ]
    },
    {
      "cell_type": "code",
      "execution_count": 1,
      "metadata": {
        "id": "cS-hyAiVWeD_"
      },
      "outputs": [],
      "source": [
        "import numpy as np\n",
        "import pandas as pd"
      ]
    },
    {
      "cell_type": "code",
      "execution_count": 4,
      "metadata": {
        "colab": {
          "base_uri": "https://localhost:8080/",
          "height": 270
        },
        "id": "q3ZVrTmqXcHu",
        "outputId": "86e54095-5f9b-4453-f0af-08bed7aa88e6"
      },
      "outputs": [
        {
          "data": {
            "text/html": [
              "<div>\n",
              "<style scoped>\n",
              "    .dataframe tbody tr th:only-of-type {\n",
              "        vertical-align: middle;\n",
              "    }\n",
              "\n",
              "    .dataframe tbody tr th {\n",
              "        vertical-align: top;\n",
              "    }\n",
              "\n",
              "    .dataframe thead th {\n",
              "        text-align: right;\n",
              "    }\n",
              "</style>\n",
              "<table border=\"1\" class=\"dataframe\">\n",
              "  <thead>\n",
              "    <tr style=\"text-align: right;\">\n",
              "      <th></th>\n",
              "      <th>RowNumber</th>\n",
              "      <th>CustomerId</th>\n",
              "      <th>Surname</th>\n",
              "      <th>CreditScore</th>\n",
              "      <th>Geography</th>\n",
              "      <th>Gender</th>\n",
              "      <th>Age</th>\n",
              "      <th>Tenure</th>\n",
              "      <th>Balance</th>\n",
              "      <th>NumOfProducts</th>\n",
              "      <th>HasCrCard</th>\n",
              "      <th>IsActiveMember</th>\n",
              "      <th>EstimatedSalary</th>\n",
              "      <th>Exited</th>\n",
              "    </tr>\n",
              "  </thead>\n",
              "  <tbody>\n",
              "    <tr>\n",
              "      <th>0</th>\n",
              "      <td>1</td>\n",
              "      <td>15634602</td>\n",
              "      <td>Hargrave</td>\n",
              "      <td>619</td>\n",
              "      <td>France</td>\n",
              "      <td>Female</td>\n",
              "      <td>42</td>\n",
              "      <td>2</td>\n",
              "      <td>0.00</td>\n",
              "      <td>1</td>\n",
              "      <td>1</td>\n",
              "      <td>1</td>\n",
              "      <td>101348.88</td>\n",
              "      <td>1</td>\n",
              "    </tr>\n",
              "    <tr>\n",
              "      <th>1</th>\n",
              "      <td>2</td>\n",
              "      <td>15647311</td>\n",
              "      <td>Hill</td>\n",
              "      <td>608</td>\n",
              "      <td>Spain</td>\n",
              "      <td>Female</td>\n",
              "      <td>41</td>\n",
              "      <td>1</td>\n",
              "      <td>83807.86</td>\n",
              "      <td>1</td>\n",
              "      <td>0</td>\n",
              "      <td>1</td>\n",
              "      <td>112542.58</td>\n",
              "      <td>0</td>\n",
              "    </tr>\n",
              "    <tr>\n",
              "      <th>2</th>\n",
              "      <td>3</td>\n",
              "      <td>15619304</td>\n",
              "      <td>Onio</td>\n",
              "      <td>502</td>\n",
              "      <td>France</td>\n",
              "      <td>Female</td>\n",
              "      <td>42</td>\n",
              "      <td>8</td>\n",
              "      <td>159660.80</td>\n",
              "      <td>3</td>\n",
              "      <td>1</td>\n",
              "      <td>0</td>\n",
              "      <td>113931.57</td>\n",
              "      <td>1</td>\n",
              "    </tr>\n",
              "    <tr>\n",
              "      <th>3</th>\n",
              "      <td>4</td>\n",
              "      <td>15701354</td>\n",
              "      <td>Boni</td>\n",
              "      <td>699</td>\n",
              "      <td>France</td>\n",
              "      <td>Female</td>\n",
              "      <td>39</td>\n",
              "      <td>1</td>\n",
              "      <td>0.00</td>\n",
              "      <td>2</td>\n",
              "      <td>0</td>\n",
              "      <td>0</td>\n",
              "      <td>93826.63</td>\n",
              "      <td>0</td>\n",
              "    </tr>\n",
              "    <tr>\n",
              "      <th>4</th>\n",
              "      <td>5</td>\n",
              "      <td>15737888</td>\n",
              "      <td>Mitchell</td>\n",
              "      <td>850</td>\n",
              "      <td>Spain</td>\n",
              "      <td>Female</td>\n",
              "      <td>43</td>\n",
              "      <td>2</td>\n",
              "      <td>125510.82</td>\n",
              "      <td>1</td>\n",
              "      <td>1</td>\n",
              "      <td>1</td>\n",
              "      <td>79084.10</td>\n",
              "      <td>0</td>\n",
              "    </tr>\n",
              "  </tbody>\n",
              "</table>\n",
              "</div>"
            ],
            "text/plain": [
              "   RowNumber  CustomerId   Surname  CreditScore Geography  Gender  Age  \\\n",
              "0          1    15634602  Hargrave          619    France  Female   42   \n",
              "1          2    15647311      Hill          608     Spain  Female   41   \n",
              "2          3    15619304      Onio          502    France  Female   42   \n",
              "3          4    15701354      Boni          699    France  Female   39   \n",
              "4          5    15737888  Mitchell          850     Spain  Female   43   \n",
              "\n",
              "   Tenure    Balance  NumOfProducts  HasCrCard  IsActiveMember  \\\n",
              "0       2       0.00              1          1               1   \n",
              "1       1   83807.86              1          0               1   \n",
              "2       8  159660.80              3          1               0   \n",
              "3       1       0.00              2          0               0   \n",
              "4       2  125510.82              1          1               1   \n",
              "\n",
              "   EstimatedSalary  Exited  \n",
              "0        101348.88       1  \n",
              "1        112542.58       0  \n",
              "2        113931.57       1  \n",
              "3         93826.63       0  \n",
              "4         79084.10       0  "
            ]
          },
          "execution_count": 4,
          "metadata": {},
          "output_type": "execute_result"
        }
      ],
      "source": [
        "ds=pd.read_csv(\"Churn_Modelling.csv\")\n",
        "ds.head()"
      ]
    },
    {
      "cell_type": "markdown",
      "metadata": {
        "id": "eNyzOZDPcwqm"
      },
      "source": [
        "## 3. Perform Below Visualizations.\n",
        "● Univariate Analysis\n",
        "● Bi - Variate Analysis\n",
        "● Multi - Variate Analysis"
      ]
    },
    {
      "cell_type": "code",
      "execution_count": 5,
      "metadata": {
        "id": "VAXI6i7zcSAK"
      },
      "outputs": [],
      "source": [
        "import matplotlib.pyplot as plt\n",
        "import seaborn as sns"
      ]
    },
    {
      "cell_type": "markdown",
      "metadata": {
        "id": "GYDEzL6vc9Tm"
      },
      "source": [
        "● Univariate Analysis"
      ]
    },
    {
      "cell_type": "code",
      "execution_count": 6,
      "metadata": {
        "colab": {
          "base_uri": "https://localhost:8080/",
          "height": 316
        },
        "id": "W7bRYVNDcCzf",
        "outputId": "695693fa-2b1f-46ca-bd1c-2c4347501479"
      },
      "outputs": [
        {
          "data": {
            "text/plain": [
              "array([[<AxesSubplot: title={'center': 'Age'}>]], dtype=object)"
            ]
          },
          "execution_count": 6,
          "metadata": {},
          "output_type": "execute_result"
        },
        {
          "data": {
            "image/png": "[encoded data removed]",
            "text/plain": [
              "<Figure size 432x288 with 1 Axes>"
            ]
          },
          "metadata": {
            "needs_background": "light"
          },
          "output_type": "display_data"
        }
      ],
      "source": [
        "ds.hist(column='Age',grid=False,edgecolor='black')"
      ]
    },
    {
      "cell_type": "markdown",
      "metadata": {
        "id": "GBUN7W5bdJyV"
      },
      "source": [
        "● Bi - Variate Analysis"
      ]
    },
    {
      "cell_type": "code",
      "execution_count": 7,
      "metadata": {
        "colab": {
          "base_uri": "https://localhost:8080/",
          "height": 296
        },
        "id": "bjc1mqVIfC5p",
        "outputId": "141d87a3-4192-41f7-9f8b-0a247d0e3c92"
      },
      "outputs": [
        {
          "data": {
            "text/plain": [
              "<AxesSubplot: xlabel='Gender', ylabel='count'>"
            ]
          },
          "execution_count": 7,
          "metadata": {},
          "output_type": "execute_result"
        },
        {
          "data": {
            "image/png": "[encoded data removed]",
            "text/plain": [
              "<Figure size 432x288 with 1 Axes>"
            ]
          },
          "metadata": {
            "needs_background": "light"
          },
          "output_type": "display_data"
        }
      ],
      "source": [
        "sns.countplot(x='Gender',data=ds)"
      ]
    },
    {
      "cell_type": "markdown",
      "metadata": {
        "id": "1qOVAO8Zf6M6"
      },
      "source": [
        "● Multi - Variate Analysis"
      ]
    },
    {
      "cell_type": "code",
      "execution_count": 8,
      "metadata": {
        "colab": {
          "base_uri": "https://localhost:8080/",
          "height": 296
        },
        "id": "byGAbn1ffziF",
        "outputId": "91175b34-a028-46b4-c943-d230375596b6"
      },
      "outputs": [
        {
          "data": {
            "text/plain": [
              "<AxesSubplot: xlabel='Tenure', ylabel='count'>"
            ]
          },
          "execution_count": 8,
          "metadata": {},
          "output_type": "execute_result"
        },
        {
          "data": {
            "image/png": "[encoded data removed]",
            "text/plain": [
              "<Figure size 432x288 with 1 Axes>"
            ]
          },
          "metadata": {
            "needs_background": "light"
          },
          "output_type": "display_data"
        }
      ],
      "source": [
        "sns.countplot(x=\"Tenure\",data=ds)"
      ]
    },
    {
      "cell_type": "markdown",
      "metadata": {
        "id": "RDYkiWt5h6dr"
      },
      "source": [
        "## 4. Perform descriptive statistics on the dataset."
      ]
    },
    {
      "cell_type": "code",
      "execution_count": 9,
      "metadata": {
        "colab": {
          "base_uri": "https://localhost:8080/",
          "height": 364
        },
        "id": "Zf_DmipDhWeJ",
        "outputId": "fff1307c-9b07-4b98-a17e-44b7829367b1"
      },
      "outputs": [
        {
          "data": {
            "text/html": [
              "<div>\n",
              "<style scoped>\n",
              "    .dataframe tbody tr th:only-of-type {\n",
              "        vertical-align: middle;\n",
              "    }\n",
              "\n",
              "    .dataframe tbody tr th {\n",
              "        vertical-align: top;\n",
              "    }\n",
              "\n",
              "    .dataframe thead th {\n",
              "        text-align: right;\n",
              "    }\n",
              "</style>\n",
              "<table border=\"1\" class=\"dataframe\">\n",
              "  <thead>\n",
              "    <tr style=\"text-align: right;\">\n",
              "      <th></th>\n",
              "      <th>RowNumber</th>\n",
              "      <th>CustomerId</th>\n",
              "      <th>CreditScore</th>\n",
              "      <th>Age</th>\n",
              "      <th>Tenure</th>\n",
              "      <th>Balance</th>\n",
              "      <th>NumOfProducts</th>\n",
              "      <th>HasCrCard</th>\n",
              "      <th>IsActiveMember</th>\n",
              "      <th>EstimatedSalary</th>\n",
              "      <th>Exited</th>\n",
              "    </tr>\n",
              "  </thead>\n",
              "  <tbody>\n",
              "    <tr>\n",
              "      <th>count</th>\n",
              "      <td>10000.00000</td>\n",
              "      <td>1.000000e+04</td>\n",
              "      <td>10000.000000</td>\n",
              "      <td>10000.000000</td>\n",
              "      <td>10000.000000</td>\n",
              "      <td>10000.000000</td>\n",
              "      <td>10000.000000</td>\n",
              "      <td>10000.00000</td>\n",
              "      <td>10000.000000</td>\n",
              "      <td>10000.000000</td>\n",
              "      <td>10000.000000</td>\n",
              "    </tr>\n",
              "    <tr>\n",
              "      <th>mean</th>\n",
              "      <td>5000.50000</td>\n",
              "      <td>1.569094e+07</td>\n",
              "      <td>650.528800</td>\n",
              "      <td>38.921800</td>\n",
              "      <td>5.012800</td>\n",
              "      <td>76485.889288</td>\n",
              "      <td>1.530200</td>\n",
              "      <td>0.70550</td>\n",
              "      <td>0.515100</td>\n",
              "      <td>100090.239881</td>\n",
              "      <td>0.203700</td>\n",
              "    </tr>\n",
              "    <tr>\n",
              "      <th>std</th>\n",
              "      <td>2886.89568</td>\n",
              "      <td>7.193619e+04</td>\n",
              "      <td>96.653299</td>\n",
              "      <td>10.487806</td>\n",
              "      <td>2.892174</td>\n",
              "      <td>62397.405202</td>\n",
              "      <td>0.581654</td>\n",
              "      <td>0.45584</td>\n",
              "      <td>0.499797</td>\n",
              "      <td>57510.492818</td>\n",
              "      <td>0.402769</td>\n",
              "    </tr>\n",
              "    <tr>\n",
              "      <th>min</th>\n",
              "      <td>1.00000</td>\n",
              "      <td>1.556570e+07</td>\n",
              "      <td>350.000000</td>\n",
              "      <td>18.000000</td>\n",
              "      <td>0.000000</td>\n",
              "      <td>0.000000</td>\n",
              "      <td>1.000000</td>\n",
              "      <td>0.00000</td>\n",
              "      <td>0.000000</td>\n",
              "      <td>11.580000</td>\n",
              "      <td>0.000000</td>\n",
              "    </tr>\n",
              "    <tr>\n",
              "      <th>25%</th>\n",
              "      <td>2500.75000</td>\n",
              "      <td>1.562853e+07</td>\n",
              "      <td>584.000000</td>\n",
              "      <td>32.000000</td>\n",
              "      <td>3.000000</td>\n",
              "      <td>0.000000</td>\n",
              "      <td>1.000000</td>\n",
              "      <td>0.00000</td>\n",
              "      <td>0.000000</td>\n",
              "      <td>51002.110000</td>\n",
              "      <td>0.000000</td>\n",
              "    </tr>\n",
              "    <tr>\n",
              "      <th>50%</th>\n",
              "      <td>5000.50000</td>\n",
              "      <td>1.569074e+07</td>\n",
              "      <td>652.000000</td>\n",
              "      <td>37.000000</td>\n",
              "      <td>5.000000</td>\n",
              "      <td>97198.540000</td>\n",
              "      <td>1.000000</td>\n",
              "      <td>1.00000</td>\n",
              "      <td>1.000000</td>\n",
              "      <td>100193.915000</td>\n",
              "      <td>0.000000</td>\n",
              "    </tr>\n",
              "    <tr>\n",
              "      <th>75%</th>\n",
              "      <td>7500.25000</td>\n",
              "      <td>1.575323e+07</td>\n",
              "      <td>718.000000</td>\n",
              "      <td>44.000000</td>\n",
              "      <td>7.000000</td>\n",
              "      <td>127644.240000</td>\n",
              "      <td>2.000000</td>\n",
              "      <td>1.00000</td>\n",
              "      <td>1.000000</td>\n",
              "      <td>149388.247500</td>\n",
              "      <td>0.000000</td>\n",
              "    </tr>\n",
              "    <tr>\n",
              "      <th>max</th>\n",
              "      <td>10000.00000</td>\n",
              "      <td>1.581569e+07</td>\n",
              "      <td>850.000000</td>\n",
              "      <td>92.000000</td>\n",
              "      <td>10.000000</td>\n",
              "      <td>250898.090000</td>\n",
              "      <td>4.000000</td>\n",
              "      <td>1.00000</td>\n",
              "      <td>1.000000</td>\n",
              "      <td>199992.480000</td>\n",
              "      <td>1.000000</td>\n",
              "    </tr>\n",
              "  </tbody>\n",
              "</table>\n",
              "</div>"
            ],
            "text/plain": [
              "         RowNumber    CustomerId   CreditScore           Age        Tenure  \\\n",
              "count  10000.00000  1.000000e+04  10000.000000  10000.000000  10000.000000   \n",
              "mean    5000.50000  1.569094e+07    650.528800     38.921800      5.012800   \n",
              "std     2886.89568  7.193619e+04     96.653299     10.487806      2.892174   \n",
              "min        1.00000  1.556570e+07    350.000000     18.000000      0.000000   \n",
              "25%     2500.75000  1.562853e+07    584.000000     32.000000      3.000000   \n",
              "50%     5000.50000  1.569074e+07    652.000000     37.000000      5.000000   \n",
              "75%     7500.25000  1.575323e+07    718.000000     44.000000      7.000000   \n",
              "max    10000.00000  1.581569e+07    850.000000     92.000000     10.000000   \n",
              "\n",
              "             Balance  NumOfProducts    HasCrCard  IsActiveMember  \\\n",
              "count   10000.000000   10000.000000  10000.00000    10000.000000   \n",
              "mean    76485.889288       1.530200      0.70550        0.515100   \n",
              "std     62397.405202       0.581654      0.45584        0.499797   \n",
              "min         0.000000       1.000000      0.00000        0.000000   \n",
              "25%         0.000000       1.000000      0.00000        0.000000   \n",
              "50%     97198.540000       1.000000      1.00000        1.000000   \n",
              "75%    127644.240000       2.000000      1.00000        1.000000   \n",
              "max    250898.090000       4.000000      1.00000        1.000000   \n",
              "\n",
              "       EstimatedSalary        Exited  \n",
              "count     10000.000000  10000.000000  \n",
              "mean     100090.239881      0.203700  \n",
              "std       57510.492818      0.402769  \n",
              "min          11.580000      0.000000  \n",
              "25%       51002.110000      0.000000  \n",
              "50%      100193.915000      0.000000  \n",
              "75%      149388.247500      0.000000  \n",
              "max      199992.480000      1.000000  "
            ]
          },
          "execution_count": 9,
          "metadata": {},
          "output_type": "execute_result"
        }
      ],
      "source": [
        "ds.describe()"
      ]
    },
    {
      "cell_type": "markdown",
      "metadata": {
        "id": "0xq3_rshlrF7"
      },
      "source": [
        "## 5. Handle the Missing values."
      ]
    },
    {
      "cell_type": "code",
      "execution_count": 10,
      "metadata": {
        "colab": {
          "base_uri": "https://localhost:8080/"
        },
        "id": "8sLwpfD64Yl0",
        "outputId": "0d70f1eb-0712-4570-de8b-47bf94020a31"
      },
      "outputs": [
        {
          "name": "stdout",
          "output_type": "stream",
          "text": [
            "<class 'pandas.core.frame.DataFrame'>\n",
            "RangeIndex: 10000 entries, 0 to 9999\n",
            "Data columns (total 14 columns):\n",
            " #   Column           Non-Null Count  Dtype  \n",
            "---  ------           --------------  -----  \n",
            " 0   RowNumber        10000 non-null  int64  \n",
            " 1   CustomerId       10000 non-null  int64  \n",
            " 2   Surname          10000 non-null  object \n",
            " 3   CreditScore      10000 non-null  int64  \n",
            " 4   Geography        10000 non-null  object \n",
            " 5   Gender           10000 non-null  object \n",
            " 6   Age              10000 non-null  int64  \n",
            " 7   Tenure           10000 non-null  int64  \n",
            " 8   Balance          10000 non-null  float64\n",
            " 9   NumOfProducts    10000 non-null  int64  \n",
            " 10  HasCrCard        10000 non-null  int64  \n",
            " 11  IsActiveMember   10000 non-null  int64  \n",
            " 12  EstimatedSalary  10000 non-null  float64\n",
            " 13  Exited           10000 non-null  int64  \n",
            "dtypes: float64(2), int64(9), object(3)\n",
            "memory usage: 1.1+ MB\n"
          ]
        }
      ],
      "source": [
        "ds.info()"
      ]
    },
    {
      "cell_type": "markdown",
      "metadata": {
        "id": "5VE8S_aSndo9"
      },
      "source": [
        "## 6. Find the outliers and replace the outliers"
      ]
    },
    {
      "cell_type": "code",
      "execution_count": 11,
      "metadata": {
        "colab": {
          "base_uri": "https://localhost:8080/",
          "height": 351
        },
        "id": "Ktpw2DZB4hTs",
        "outputId": "42a144b2-6538-4b56-9a43-ad90f63a2f2f"
      },
      "outputs": [
        {
          "data": {
            "text/plain": [
              "<AxesSubplot: >"
            ]
          },
          "execution_count": 11,
          "metadata": {},
          "output_type": "execute_result"
        },
        {
          "data": {
            "image/png": "[encoded data removed]",
            "text/plain": [
              "<Figure size 432x288 with 1 Axes>"
            ]
          },
          "metadata": {
            "needs_background": "light"
          },
          "output_type": "display_data"
        }
      ],
      "source": [
        "sns.boxplot(ds['NumOfProducts'])\n"
      ]
    },
    {
      "cell_type": "code",
      "execution_count": 12,
      "metadata": {
        "colab": {
          "base_uri": "https://localhost:8080/"
        },
        "id": "wTTGC-f5rzQ6",
        "outputId": "ee7fcbbe-1d88-4d5b-8317-81d613d58cd4"
      },
      "outputs": [
        {
          "data": {
            "text/plain": [
              "(array([   7,   70, 1254, 1469, 1488, 1701, 1876, 2124, 2196, 2285, 2462,\n",
              "        2499, 2509, 2541, 2614, 2617, 2872, 3152, 3365, 3841, 4013, 4014,\n",
              "        4166, 4260, 4403, 4511, 4516, 4606, 4654, 4748, 4822, 5010, 5137,\n",
              "        5235, 5386, 5700, 5904, 6150, 6172, 6279, 6750, 6875, 7257, 7457,\n",
              "        7567, 7698, 7724, 7729, 8041, 8590, 8683, 8850, 8923, 9215, 9255,\n",
              "        9323, 9370, 9411, 9540, 9565], dtype=int64),)"
            ]
          },
          "execution_count": 12,
          "metadata": {},
          "output_type": "execute_result"
        }
      ],
      "source": [
        "# Values above 3 are outliers\n",
        "outliers=np.where(ds['NumOfProducts']>3)\n",
        "outliers"
      ]
    },
    {
      "cell_type": "code",
      "execution_count": 13,
      "metadata": {
        "colab": {
          "base_uri": "https://localhost:8080/"
        },
        "id": "Uu_sevFjCNDM",
        "outputId": "6f400ccf-3451-4e74-e7c0-492f9c92f0ce"
      },
      "outputs": [
        {
          "name": "stderr",
          "output_type": "stream",
          "text": [
            "C:\\Users\\Jerub Singh Samuel\\AppData\\Local\\Temp\\ipykernel_2800\\3392491557.py:2: SettingWithCopyWarning: \n",
            "A value is trying to be set on a copy of a slice from a DataFrame\n",
            "\n",
            "See the caveats in the documentation: https://pandas.pydata.org/pandas-docs/stable/user_guide/indexing.html#returning-a-view-versus-a-copy\n",
            "  ds['NumOfProducts'][i]=3 #replacing with previous value\n"
          ]
        }
      ],
      "source": [
        "for i in outliers:\n",
        "    ds['NumOfProducts'][i]=3 #replacing with previous value"
      ]
    },
    {
      "cell_type": "code",
      "execution_count": 14,
      "metadata": {
        "colab": {
          "base_uri": "https://localhost:8080/",
          "height": 351
        },
        "id": "wHAJyg5dCZKm",
        "outputId": "f2fd3aaf-ea87-495a-bba8-b3faa3d5f4d1"
      },
      "outputs": [
        {
          "data": {
            "text/plain": [
              "<AxesSubplot: >"
            ]
          },
          "execution_count": 14,
          "metadata": {},
          "output_type": "execute_result"
        },
        {
          "data": {
            "image/png": "[encoded data removed]",
            "text/plain": [
              "<Figure size 432x288 with 1 Axes>"
            ]
          },
          "metadata": {
            "needs_background": "light"
          },
          "output_type": "display_data"
        }
      ],
      "source": [
        "sns.boxenplot(ds['NumOfProducts'])"
      ]
    },
    {
      "cell_type": "markdown",
      "metadata": {
        "id": "WoosdUNe-VWv"
      },
      "source": [
        "## 7. Check for Categorical columns and perform encoding."
      ]
    },
    {
      "cell_type": "code",
      "execution_count": 15,
      "metadata": {
        "id": "mHMjAzmI40su"
      },
      "outputs": [],
      "source": [
        "from sklearn.preprocessing import LabelEncoder\n",
        "le=LabelEncoder()"
      ]
    },
    {
      "cell_type": "code",
      "execution_count": 16,
      "metadata": {
        "colab": {
          "base_uri": "https://localhost:8080/",
          "height": 270
        },
        "id": "7m8Ql54i45_B",
        "outputId": "dd546fd2-1e5f-45ea-953e-252490f31bd9"
      },
      "outputs": [
        {
          "data": {
            "text/html": [
              "<div>\n",
              "<style scoped>\n",
              "    .dataframe tbody tr th:only-of-type {\n",
              "        vertical-align: middle;\n",
              "    }\n",
              "\n",
              "    .dataframe tbody tr th {\n",
              "        vertical-align: top;\n",
              "    }\n",
              "\n",
              "    .dataframe thead th {\n",
              "        text-align: right;\n",
              "    }\n",
              "</style>\n",
              "<table border=\"1\" class=\"dataframe\">\n",
              "  <thead>\n",
              "    <tr style=\"text-align: right;\">\n",
              "      <th></th>\n",
              "      <th>RowNumber</th>\n",
              "      <th>CustomerId</th>\n",
              "      <th>Surname</th>\n",
              "      <th>CreditScore</th>\n",
              "      <th>Geography</th>\n",
              "      <th>Gender</th>\n",
              "      <th>Age</th>\n",
              "      <th>Tenure</th>\n",
              "      <th>Balance</th>\n",
              "      <th>NumOfProducts</th>\n",
              "      <th>HasCrCard</th>\n",
              "      <th>IsActiveMember</th>\n",
              "      <th>EstimatedSalary</th>\n",
              "      <th>Exited</th>\n",
              "    </tr>\n",
              "  </thead>\n",
              "  <tbody>\n",
              "    <tr>\n",
              "      <th>0</th>\n",
              "      <td>1</td>\n",
              "      <td>15634602</td>\n",
              "      <td>Hargrave</td>\n",
              "      <td>619</td>\n",
              "      <td>France</td>\n",
              "      <td>Female</td>\n",
              "      <td>42</td>\n",
              "      <td>2</td>\n",
              "      <td>0.00</td>\n",
              "      <td>1</td>\n",
              "      <td>1</td>\n",
              "      <td>1</td>\n",
              "      <td>101348.88</td>\n",
              "      <td>1</td>\n",
              "    </tr>\n",
              "    <tr>\n",
              "      <th>1</th>\n",
              "      <td>2</td>\n",
              "      <td>15647311</td>\n",
              "      <td>Hill</td>\n",
              "      <td>608</td>\n",
              "      <td>Spain</td>\n",
              "      <td>Female</td>\n",
              "      <td>41</td>\n",
              "      <td>1</td>\n",
              "      <td>83807.86</td>\n",
              "      <td>1</td>\n",
              "      <td>0</td>\n",
              "      <td>1</td>\n",
              "      <td>112542.58</td>\n",
              "      <td>0</td>\n",
              "    </tr>\n",
              "    <tr>\n",
              "      <th>2</th>\n",
              "      <td>3</td>\n",
              "      <td>15619304</td>\n",
              "      <td>Onio</td>\n",
              "      <td>502</td>\n",
              "      <td>France</td>\n",
              "      <td>Female</td>\n",
              "      <td>42</td>\n",
              "      <td>8</td>\n",
              "      <td>159660.80</td>\n",
              "      <td>3</td>\n",
              "      <td>1</td>\n",
              "      <td>0</td>\n",
              "      <td>113931.57</td>\n",
              "      <td>1</td>\n",
              "    </tr>\n",
              "    <tr>\n",
              "      <th>3</th>\n",
              "      <td>4</td>\n",
              "      <td>15701354</td>\n",
              "      <td>Boni</td>\n",
              "      <td>699</td>\n",
              "      <td>France</td>\n",
              "      <td>Female</td>\n",
              "      <td>39</td>\n",
              "      <td>1</td>\n",
              "      <td>0.00</td>\n",
              "      <td>2</td>\n",
              "      <td>0</td>\n",
              "      <td>0</td>\n",
              "      <td>93826.63</td>\n",
              "      <td>0</td>\n",
              "    </tr>\n",
              "    <tr>\n",
              "      <th>4</th>\n",
              "      <td>5</td>\n",
              "      <td>15737888</td>\n",
              "      <td>Mitchell</td>\n",
              "      <td>850</td>\n",
              "      <td>Spain</td>\n",
              "      <td>Female</td>\n",
              "      <td>43</td>\n",
              "      <td>2</td>\n",
              "      <td>125510.82</td>\n",
              "      <td>1</td>\n",
              "      <td>1</td>\n",
              "      <td>1</td>\n",
              "      <td>79084.10</td>\n",
              "      <td>0</td>\n",
              "    </tr>\n",
              "  </tbody>\n",
              "</table>\n",
              "</div>"
            ],
            "text/plain": [
              "   RowNumber  CustomerId   Surname  CreditScore Geography  Gender  Age  \\\n",
              "0          1    15634602  Hargrave          619    France  Female   42   \n",
              "1          2    15647311      Hill          608     Spain  Female   41   \n",
              "2          3    15619304      Onio          502    France  Female   42   \n",
              "3          4    15701354      Boni          699    France  Female   39   \n",
              "4          5    15737888  Mitchell          850     Spain  Female   43   \n",
              "\n",
              "   Tenure    Balance  NumOfProducts  HasCrCard  IsActiveMember  \\\n",
              "0       2       0.00              1          1               1   \n",
              "1       1   83807.86              1          0               1   \n",
              "2       8  159660.80              3          1               0   \n",
              "3       1       0.00              2          0               0   \n",
              "4       2  125510.82              1          1               1   \n",
              "\n",
              "   EstimatedSalary  Exited  \n",
              "0        101348.88       1  \n",
              "1        112542.58       0  \n",
              "2        113931.57       1  \n",
              "3         93826.63       0  \n",
              "4         79084.10       0  "
            ]
          },
          "execution_count": 16,
          "metadata": {},
          "output_type": "execute_result"
        }
      ],
      "source": [
        "ds.head()"
      ]
    },
    {
      "cell_type": "markdown",
      "metadata": {
        "id": "EpSmB6JjE8wd"
      },
      "source": [
        "## 8. Split the data into dependent and independent variables."
      ]
    },
    {
      "cell_type": "code",
      "execution_count": 17,
      "metadata": {
        "id": "WAreVcU05HUj"
      },
      "outputs": [],
      "source": [
        "x = ds.iloc[:, 3:13]\n",
        "y = ds.iloc[:, 13]"
      ]
    },
    {
      "cell_type": "markdown",
      "metadata": {
        "id": "5svr4EMcKmpS"
      },
      "source": [
        "## 9. Scale the independent variables"
      ]
    },
    {
      "cell_type": "code",
      "execution_count": 18,
      "metadata": {
        "id": "qNGbSr5B5NL4"
      },
      "outputs": [],
      "source": [
        "x=x.drop(['Geography','Gender'],axis=1)"
      ]
    },
    {
      "cell_type": "code",
      "execution_count": 19,
      "metadata": {
        "colab": {
          "base_uri": "https://localhost:8080/",
          "height": 424
        },
        "id": "7xlKZvbK5fOC",
        "outputId": "5dcd7fe0-d6f9-496f-d413-99a2245ad36c"
      },
      "outputs": [
        {
          "data": {
            "text/html": [
              "<div>\n",
              "<style scoped>\n",
              "    .dataframe tbody tr th:only-of-type {\n",
              "        vertical-align: middle;\n",
              "    }\n",
              "\n",
              "    .dataframe tbody tr th {\n",
              "        vertical-align: top;\n",
              "    }\n",
              "\n",
              "    .dataframe thead th {\n",
              "        text-align: right;\n",
              "    }\n",
              "</style>\n",
              "<table border=\"1\" class=\"dataframe\">\n",
              "  <thead>\n",
              "    <tr style=\"text-align: right;\">\n",
              "      <th></th>\n",
              "      <th>CreditScore</th>\n",
              "      <th>Age</th>\n",
              "      <th>Tenure</th>\n",
              "      <th>Balance</th>\n",
              "      <th>NumOfProducts</th>\n",
              "      <th>HasCrCard</th>\n",
              "      <th>IsActiveMember</th>\n",
              "      <th>EstimatedSalary</th>\n",
              "    </tr>\n",
              "  </thead>\n",
              "  <tbody>\n",
              "    <tr>\n",
              "      <th>0</th>\n",
              "      <td>619</td>\n",
              "      <td>42</td>\n",
              "      <td>2</td>\n",
              "      <td>0.00</td>\n",
              "      <td>1</td>\n",
              "      <td>1</td>\n",
              "      <td>1</td>\n",
              "      <td>101348.88</td>\n",
              "    </tr>\n",
              "    <tr>\n",
              "      <th>1</th>\n",
              "      <td>608</td>\n",
              "      <td>41</td>\n",
              "      <td>1</td>\n",
              "      <td>83807.86</td>\n",
              "      <td>1</td>\n",
              "      <td>0</td>\n",
              "      <td>1</td>\n",
              "      <td>112542.58</td>\n",
              "    </tr>\n",
              "    <tr>\n",
              "      <th>2</th>\n",
              "      <td>502</td>\n",
              "      <td>42</td>\n",
              "      <td>8</td>\n",
              "      <td>159660.80</td>\n",
              "      <td>3</td>\n",
              "      <td>1</td>\n",
              "      <td>0</td>\n",
              "      <td>113931.57</td>\n",
              "    </tr>\n",
              "    <tr>\n",
              "      <th>3</th>\n",
              "      <td>699</td>\n",
              "      <td>39</td>\n",
              "      <td>1</td>\n",
              "      <td>0.00</td>\n",
              "      <td>2</td>\n",
              "      <td>0</td>\n",
              "      <td>0</td>\n",
              "      <td>93826.63</td>\n",
              "    </tr>\n",
              "    <tr>\n",
              "      <th>4</th>\n",
              "      <td>850</td>\n",
              "      <td>43</td>\n",
              "      <td>2</td>\n",
              "      <td>125510.82</td>\n",
              "      <td>1</td>\n",
              "      <td>1</td>\n",
              "      <td>1</td>\n",
              "      <td>79084.10</td>\n",
              "    </tr>\n",
              "    <tr>\n",
              "      <th>...</th>\n",
              "      <td>...</td>\n",
              "      <td>...</td>\n",
              "      <td>...</td>\n",
              "      <td>...</td>\n",
              "      <td>...</td>\n",
              "      <td>...</td>\n",
              "      <td>...</td>\n",
              "      <td>...</td>\n",
              "    </tr>\n",
              "    <tr>\n",
              "      <th>9995</th>\n",
              "      <td>771</td>\n",
              "      <td>39</td>\n",
              "      <td>5</td>\n",
              "      <td>0.00</td>\n",
              "      <td>2</td>\n",
              "      <td>1</td>\n",
              "      <td>0</td>\n",
              "      <td>96270.64</td>\n",
              "    </tr>\n",
              "    <tr>\n",
              "      <th>9996</th>\n",
              "      <td>516</td>\n",
              "      <td>35</td>\n",
              "      <td>10</td>\n",
              "      <td>57369.61</td>\n",
              "      <td>1</td>\n",
              "      <td>1</td>\n",
              "      <td>1</td>\n",
              "      <td>101699.77</td>\n",
              "    </tr>\n",
              "    <tr>\n",
              "      <th>9997</th>\n",
              "      <td>709</td>\n",
              "      <td>36</td>\n",
              "      <td>7</td>\n",
              "      <td>0.00</td>\n",
              "      <td>1</td>\n",
              "      <td>0</td>\n",
              "      <td>1</td>\n",
              "      <td>42085.58</td>\n",
              "    </tr>\n",
              "    <tr>\n",
              "      <th>9998</th>\n",
              "      <td>772</td>\n",
              "      <td>42</td>\n",
              "      <td>3</td>\n",
              "      <td>75075.31</td>\n",
              "      <td>2</td>\n",
              "      <td>1</td>\n",
              "      <td>0</td>\n",
              "      <td>92888.52</td>\n",
              "    </tr>\n",
              "    <tr>\n",
              "      <th>9999</th>\n",
              "      <td>792</td>\n",
              "      <td>28</td>\n",
              "      <td>4</td>\n",
              "      <td>130142.79</td>\n",
              "      <td>1</td>\n",
              "      <td>1</td>\n",
              "      <td>0</td>\n",
              "      <td>38190.78</td>\n",
              "    </tr>\n",
              "  </tbody>\n",
              "</table>\n",
              "<p>10000 rows × 8 columns</p>\n",
              "</div>"
            ],
            "text/plain": [
              "      CreditScore  Age  Tenure    Balance  NumOfProducts  HasCrCard  \\\n",
              "0             619   42       2       0.00              1          1   \n",
              "1             608   41       1   83807.86              1          0   \n",
              "2             502   42       8  159660.80              3          1   \n",
              "3             699   39       1       0.00              2          0   \n",
              "4             850   43       2  125510.82              1          1   \n",
              "...           ...  ...     ...        ...            ...        ...   \n",
              "9995          771   39       5       0.00              2          1   \n",
              "9996          516   35      10   57369.61              1          1   \n",
              "9997          709   36       7       0.00              1          0   \n",
              "9998          772   42       3   75075.31              2          1   \n",
              "9999          792   28       4  130142.79              1          1   \n",
              "\n",
              "      IsActiveMember  EstimatedSalary  \n",
              "0                  1        101348.88  \n",
              "1                  1        112542.58  \n",
              "2                  0        113931.57  \n",
              "3                  0         93826.63  \n",
              "4                  1         79084.10  \n",
              "...              ...              ...  \n",
              "9995               0         96270.64  \n",
              "9996               1        101699.77  \n",
              "9997               1         42085.58  \n",
              "9998               0         92888.52  \n",
              "9999               0         38190.78  \n",
              "\n",
              "[10000 rows x 8 columns]"
            ]
          },
          "execution_count": 19,
          "metadata": {},
          "output_type": "execute_result"
        }
      ],
      "source": [
        "x"
      ]
    },
    {
      "cell_type": "code",
      "execution_count": 20,
      "metadata": {
        "colab": {
          "base_uri": "https://localhost:8080/"
        },
        "id": "wu0HEGxF557J",
        "outputId": "1e699edf-cc75-4062-935a-06b6d63a40d7"
      },
      "outputs": [
        {
          "data": {
            "text/plain": [
              "0       1\n",
              "1       0\n",
              "2       1\n",
              "3       0\n",
              "4       0\n",
              "       ..\n",
              "9995    0\n",
              "9996    0\n",
              "9997    1\n",
              "9998    1\n",
              "9999    0\n",
              "Name: Exited, Length: 10000, dtype: int64"
            ]
          },
          "execution_count": 20,
          "metadata": {},
          "output_type": "execute_result"
        }
      ],
      "source": [
        "y"
      ]
    },
    {
      "cell_type": "markdown",
      "metadata": {
        "id": "0KEdk1EXK2LY"
      },
      "source": [
        "## 10. Split the data into training and testing"
      ]
    },
    {
      "cell_type": "code",
      "execution_count": 21,
      "metadata": {
        "id": "q9l8RKqBK0mn"
      },
      "outputs": [],
      "source": [
        "from sklearn.model_selection import train_test_split"
      ]
    },
    {
      "cell_type": "code",
      "execution_count": 22,
      "metadata": {
        "id": "pkXj9Q-I6DTz"
      },
      "outputs": [],
      "source": [
        "xtrain,xtest,ytrain,ytest=train_test_split(x,y,test_size=0.3,random_state=0)"
      ]
    },
    {
      "cell_type": "code",
      "execution_count": 23,
      "metadata": {
        "colab": {
          "base_uri": "https://localhost:8080/"
        },
        "id": "6MPZ8jk_LcgQ",
        "outputId": "737aca70-f342-4b83-eba2-c7dd8a48062c"
      },
      "outputs": [
        {
          "data": {
            "text/plain": [
              "((7000, 8), (3000, 8))"
            ]
          },
          "execution_count": 23,
          "metadata": {},
          "output_type": "execute_result"
        }
      ],
      "source": [
        "xtrain.shape,xtest.shape"
      ]
    },
    {
      "cell_type": "code",
      "execution_count": 24,
      "metadata": {
        "id": "dYG98Jwr6NfL"
      },
      "outputs": [],
      "source": [
        "from tensorflow.keras.models import Sequential\n",
        "from tensorflow.keras.layers import Dense\n",
        "from sklearn.preprocessing import StandardScaler"
      ]
    },
    {
      "cell_type": "code",
      "execution_count": 25,
      "metadata": {
        "id": "vjcfU6cn6Qqv"
      },
      "outputs": [],
      "source": [
        "sc=StandardScaler()\n",
        "xtrain=sc.fit_transform(xtrain)\n",
        "xtest=sc.fit_transform(xtest)"
      ]
    },
    {
      "cell_type": "code",
      "execution_count": 26,
      "metadata": {
        "id": "lqmnZb6WLyZH"
      },
      "outputs": [],
      "source": [
        "classifier=Sequential()\n",
        "classifier.add(Dense(8,activation='relu'))\n",
        "classifier.add(Dense(16,activation='relu'))\n",
        "classifier.add(Dense(24,activation='relu'))\n",
        "classifier.add(Dense(8,activation='relu'))\n",
        "classifier.add(Dense(1,activation='linear'))"
      ]
    },
    {
      "cell_type": "code",
      "execution_count": 27,
      "metadata": {
        "id": "2sU3k8mC6aHv"
      },
      "outputs": [],
      "source": [
        "classifier.compile(optimizer = 'adam', loss = 'mse', metrics = ['accuracy'])"
      ]
    },
    {
      "cell_type": "code",
      "execution_count": 28,
      "metadata": {
        "colab": {
          "base_uri": "https://localhost:8080/"
        },
        "id": "87Jqpxt86dAG",
        "outputId": "5113faa7-2ec9-47fe-dcc8-2804b33b887e"
      },
      "outputs": [
        {
          "name": "stdout",
          "output_type": "stream",
          "text": [
            "Epoch 1/100\n",
            "700/700 [==============================] - 2s 2ms/step - loss: 0.1486 - accuracy: 0.8029\n",
            "Epoch 2/100\n",
            "700/700 [==============================] - 1s 2ms/step - loss: 0.1321 - accuracy: 0.8184\n",
            "Epoch 3/100\n",
            "700/700 [==============================] - 1s 2ms/step - loss: 0.1234 - accuracy: 0.8364\n",
            "Epoch 4/100\n",
            "700/700 [==============================] - 1s 2ms/step - loss: 0.1192 - accuracy: 0.8441\n",
            "Epoch 5/100\n",
            "700/700 [==============================] - 1s 1ms/step - loss: 0.1169 - accuracy: 0.8471\n",
            "Epoch 6/100\n",
            "700/700 [==============================] - 1s 1ms/step - loss: 0.1153 - accuracy: 0.8466\n",
            "Epoch 7/100\n",
            "700/700 [==============================] - 1s 1ms/step - loss: 0.1144 - accuracy: 0.8493\n",
            "Epoch 8/100\n",
            "700/700 [==============================] - 1s 1ms/step - loss: 0.1133 - accuracy: 0.8507\n",
            "Epoch 9/100\n",
            "700/700 [==============================] - 1s 1ms/step - loss: 0.1128 - accuracy: 0.8504\n",
            "Epoch 10/100\n",
            "700/700 [==============================] - 1s 1ms/step - loss: 0.1122 - accuracy: 0.8519\n",
            "Epoch 11/100\n",
            "700/700 [==============================] - 1s 1ms/step - loss: 0.1119 - accuracy: 0.8531\n",
            "Epoch 12/100\n",
            "700/700 [==============================] - 1s 1ms/step - loss: 0.1113 - accuracy: 0.8516\n",
            "Epoch 13/100\n",
            "700/700 [==============================] - 1s 1ms/step - loss: 0.1114 - accuracy: 0.8521\n",
            "Epoch 14/100\n",
            "700/700 [==============================] - 1s 1ms/step - loss: 0.1106 - accuracy: 0.8527\n",
            "Epoch 15/100\n",
            "700/700 [==============================] - 1s 1ms/step - loss: 0.1109 - accuracy: 0.8521\n",
            "Epoch 16/100\n",
            "700/700 [==============================] - 1s 1ms/step - loss: 0.1105 - accuracy: 0.8539\n",
            "Epoch 17/100\n",
            "700/700 [==============================] - 1s 1ms/step - loss: 0.1101 - accuracy: 0.8536\n",
            "Epoch 18/100\n",
            "700/700 [==============================] - 1s 1ms/step - loss: 0.1099 - accuracy: 0.8524\n",
            "Epoch 19/100\n",
            "700/700 [==============================] - 1s 1ms/step - loss: 0.1097 - accuracy: 0.8533\n",
            "Epoch 20/100\n",
            "700/700 [==============================] - 1s 1ms/step - loss: 0.1098 - accuracy: 0.8541\n",
            "Epoch 21/100\n",
            "700/700 [==============================] - 1s 2ms/step - loss: 0.1096 - accuracy: 0.8539\n",
            "Epoch 22/100\n",
            "700/700 [==============================] - 1s 1ms/step - loss: 0.1091 - accuracy: 0.8533\n",
            "Epoch 23/100\n",
            "700/700 [==============================] - 1s 2ms/step - loss: 0.1094 - accuracy: 0.8533\n",
            "Epoch 24/100\n",
            "700/700 [==============================] - 1s 1ms/step - loss: 0.1089 - accuracy: 0.8541\n",
            "Epoch 25/100\n",
            "700/700 [==============================] - 1s 1ms/step - loss: 0.1086 - accuracy: 0.8553\n",
            "Epoch 26/100\n",
            "700/700 [==============================] - 1s 1ms/step - loss: 0.1087 - accuracy: 0.8530\n",
            "Epoch 27/100\n",
            "700/700 [==============================] - 1s 2ms/step - loss: 0.1085 - accuracy: 0.8541\n",
            "Epoch 28/100\n",
            "700/700 [==============================] - 1s 1ms/step - loss: 0.1085 - accuracy: 0.8537\n",
            "Epoch 29/100\n",
            "700/700 [==============================] - 1s 1ms/step - loss: 0.1082 - accuracy: 0.8543\n",
            "Epoch 30/100\n",
            "700/700 [==============================] - 1s 2ms/step - loss: 0.1080 - accuracy: 0.8570\n",
            "Epoch 31/100\n",
            "700/700 [==============================] - 1s 2ms/step - loss: 0.1078 - accuracy: 0.8544\n",
            "Epoch 32/100\n",
            "700/700 [==============================] - 1s 2ms/step - loss: 0.1078 - accuracy: 0.8541\n",
            "Epoch 33/100\n",
            "700/700 [==============================] - 1s 2ms/step - loss: 0.1077 - accuracy: 0.8549\n",
            "Epoch 34/100\n",
            "700/700 [==============================] - 1s 2ms/step - loss: 0.1076 - accuracy: 0.8554\n",
            "Epoch 35/100\n",
            "700/700 [==============================] - 1s 2ms/step - loss: 0.1076 - accuracy: 0.8556\n",
            "Epoch 36/100\n",
            "700/700 [==============================] - 1s 2ms/step - loss: 0.1072 - accuracy: 0.8564\n",
            "Epoch 37/100\n",
            "700/700 [==============================] - 1s 2ms/step - loss: 0.1076 - accuracy: 0.8554\n",
            "Epoch 38/100\n",
            "700/700 [==============================] - 1s 1ms/step - loss: 0.1071 - accuracy: 0.8584\n",
            "Epoch 39/100\n",
            "700/700 [==============================] - 1s 1ms/step - loss: 0.1072 - accuracy: 0.8560\n",
            "Epoch 40/100\n",
            "700/700 [==============================] - 1s 1ms/step - loss: 0.1068 - accuracy: 0.8579\n",
            "Epoch 41/100\n",
            "700/700 [==============================] - 1s 1ms/step - loss: 0.1069 - accuracy: 0.8559\n",
            "Epoch 42/100\n",
            "700/700 [==============================] - 1s 1ms/step - loss: 0.1068 - accuracy: 0.8576\n",
            "Epoch 43/100\n",
            "700/700 [==============================] - 1s 1ms/step - loss: 0.1066 - accuracy: 0.8590\n",
            "Epoch 44/100\n",
            "700/700 [==============================] - 1s 1ms/step - loss: 0.1065 - accuracy: 0.8566\n",
            "Epoch 45/100\n",
            "700/700 [==============================] - 1s 1ms/step - loss: 0.1061 - accuracy: 0.8561\n",
            "Epoch 46/100\n",
            "700/700 [==============================] - 1s 1ms/step - loss: 0.1065 - accuracy: 0.8581\n",
            "Epoch 47/100\n",
            "700/700 [==============================] - 1s 1ms/step - loss: 0.1065 - accuracy: 0.8573\n",
            "Epoch 48/100\n",
            "700/700 [==============================] - 1s 1ms/step - loss: 0.1063 - accuracy: 0.8589\n",
            "Epoch 49/100\n",
            "700/700 [==============================] - 1s 1ms/step - loss: 0.1059 - accuracy: 0.8584\n",
            "Epoch 50/100\n",
            "700/700 [==============================] - 1s 2ms/step - loss: 0.1059 - accuracy: 0.8576\n",
            "Epoch 51/100\n",
            "700/700 [==============================] - 1s 1ms/step - loss: 0.1059 - accuracy: 0.8594\n",
            "Epoch 52/100\n",
            "700/700 [==============================] - 1s 1ms/step - loss: 0.1057 - accuracy: 0.8580\n",
            "Epoch 53/100\n",
            "700/700 [==============================] - 1s 1ms/step - loss: 0.1057 - accuracy: 0.8587\n",
            "Epoch 54/100\n",
            "700/700 [==============================] - 1s 1ms/step - loss: 0.1057 - accuracy: 0.8607\n",
            "Epoch 55/100\n",
            "700/700 [==============================] - 1s 1ms/step - loss: 0.1055 - accuracy: 0.8586\n",
            "Epoch 56/100\n",
            "700/700 [==============================] - 1s 1ms/step - loss: 0.1050 - accuracy: 0.8607\n",
            "Epoch 57/100\n",
            "700/700 [==============================] - 1s 1ms/step - loss: 0.1056 - accuracy: 0.8591\n",
            "Epoch 58/100\n",
            "700/700 [==============================] - 1s 1ms/step - loss: 0.1051 - accuracy: 0.8599\n",
            "Epoch 59/100\n",
            "700/700 [==============================] - 1s 1ms/step - loss: 0.1050 - accuracy: 0.8580\n",
            "Epoch 60/100\n",
            "700/700 [==============================] - 1s 1ms/step - loss: 0.1051 - accuracy: 0.8601\n",
            "Epoch 61/100\n",
            "700/700 [==============================] - 1s 1ms/step - loss: 0.1050 - accuracy: 0.8589\n",
            "Epoch 62/100\n",
            "700/700 [==============================] - 1s 1ms/step - loss: 0.1050 - accuracy: 0.8599\n",
            "Epoch 63/100\n",
            "700/700 [==============================] - 1s 1ms/step - loss: 0.1049 - accuracy: 0.8583\n",
            "Epoch 64/100\n",
            "700/700 [==============================] - 1s 1ms/step - loss: 0.1046 - accuracy: 0.8613\n",
            "Epoch 65/100\n",
            "700/700 [==============================] - 1s 1ms/step - loss: 0.1048 - accuracy: 0.8624\n",
            "Epoch 66/100\n",
            "700/700 [==============================] - 1s 2ms/step - loss: 0.1047 - accuracy: 0.8581\n",
            "Epoch 67/100\n",
            "700/700 [==============================] - 1s 2ms/step - loss: 0.1046 - accuracy: 0.8587\n",
            "Epoch 68/100\n",
            "700/700 [==============================] - 1s 1ms/step - loss: 0.1045 - accuracy: 0.8590\n",
            "Epoch 69/100\n",
            "700/700 [==============================] - 1s 1ms/step - loss: 0.1046 - accuracy: 0.8596\n",
            "Epoch 70/100\n",
            "700/700 [==============================] - 1s 1ms/step - loss: 0.1040 - accuracy: 0.8610\n",
            "Epoch 71/100\n",
            "700/700 [==============================] - 1s 1ms/step - loss: 0.1038 - accuracy: 0.8601\n",
            "Epoch 72/100\n",
            "700/700 [==============================] - 1s 1ms/step - loss: 0.1040 - accuracy: 0.8599\n",
            "Epoch 73/100\n",
            "700/700 [==============================] - 1s 1ms/step - loss: 0.1040 - accuracy: 0.8606\n",
            "Epoch 74/100\n",
            "700/700 [==============================] - 1s 1ms/step - loss: 0.1040 - accuracy: 0.8613\n",
            "Epoch 75/100\n",
            "700/700 [==============================] - 1s 2ms/step - loss: 0.1039 - accuracy: 0.8607\n",
            "Epoch 76/100\n",
            "700/700 [==============================] - 1s 1ms/step - loss: 0.1040 - accuracy: 0.8601\n",
            "Epoch 77/100\n",
            "700/700 [==============================] - 1s 1ms/step - loss: 0.1038 - accuracy: 0.8603\n",
            "Epoch 78/100\n",
            "700/700 [==============================] - 1s 1ms/step - loss: 0.1034 - accuracy: 0.8614\n",
            "Epoch 79/100\n",
            "700/700 [==============================] - 1s 1ms/step - loss: 0.1036 - accuracy: 0.8611\n",
            "Epoch 80/100\n",
            "700/700 [==============================] - 1s 1ms/step - loss: 0.1033 - accuracy: 0.8611\n",
            "Epoch 81/100\n",
            "700/700 [==============================] - 1s 1ms/step - loss: 0.1029 - accuracy: 0.8601\n",
            "Epoch 82/100\n",
            "700/700 [==============================] - 1s 1ms/step - loss: 0.1031 - accuracy: 0.8581\n",
            "Epoch 83/100\n",
            "700/700 [==============================] - 1s 2ms/step - loss: 0.1030 - accuracy: 0.8587\n",
            "Epoch 84/100\n",
            "700/700 [==============================] - 1s 1ms/step - loss: 0.1029 - accuracy: 0.8600\n",
            "Epoch 85/100\n",
            "700/700 [==============================] - 1s 1ms/step - loss: 0.1028 - accuracy: 0.8609\n",
            "Epoch 86/100\n",
            "700/700 [==============================] - 1s 1ms/step - loss: 0.1029 - accuracy: 0.8596\n",
            "Epoch 87/100\n",
            "700/700 [==============================] - 1s 1ms/step - loss: 0.1034 - accuracy: 0.8603\n",
            "Epoch 88/100\n",
            "700/700 [==============================] - 1s 1ms/step - loss: 0.1032 - accuracy: 0.8629\n",
            "Epoch 89/100\n",
            "700/700 [==============================] - 1s 1ms/step - loss: 0.1027 - accuracy: 0.8610\n",
            "Epoch 90/100\n",
            "700/700 [==============================] - 1s 2ms/step - loss: 0.1032 - accuracy: 0.8581\n",
            "Epoch 91/100\n",
            "700/700 [==============================] - 1s 2ms/step - loss: 0.1026 - accuracy: 0.8614\n",
            "Epoch 92/100\n",
            "700/700 [==============================] - 1s 2ms/step - loss: 0.1027 - accuracy: 0.8629\n",
            "Epoch 93/100\n",
            "700/700 [==============================] - 1s 2ms/step - loss: 0.1023 - accuracy: 0.8617\n",
            "Epoch 94/100\n",
            "700/700 [==============================] - 1s 2ms/step - loss: 0.1032 - accuracy: 0.8619\n",
            "Epoch 95/100\n",
            "700/700 [==============================] - 1s 2ms/step - loss: 0.1024 - accuracy: 0.8626\n",
            "Epoch 96/100\n",
            "700/700 [==============================] - 1s 2ms/step - loss: 0.1020 - accuracy: 0.8624\n",
            "Epoch 97/100\n",
            "700/700 [==============================] - 1s 2ms/step - loss: 0.1025 - accuracy: 0.8620\n",
            "Epoch 98/100\n",
            "700/700 [==============================] - 1s 2ms/step - loss: 0.1023 - accuracy: 0.8629\n",
            "Epoch 99/100\n",
            "700/700 [==============================] - 1s 2ms/step - loss: 0.1024 - accuracy: 0.8607\n",
            "Epoch 100/100\n",
            "700/700 [==============================] - 1s 2ms/step - loss: 0.1021 - accuracy: 0.8641\n"
          ]
        },
        {
          "data": {
            "text/plain": [
              "<keras.callbacks.History at 0x20967226610>"
            ]
          },
          "execution_count": 28,
          "metadata": {},
          "output_type": "execute_result"
        }
      ],
      "source": [
        "classifier.fit(xtrain,ytrain,batch_size=10,epochs=100)"
      ]
    },
    {
      "cell_type": "code",
      "execution_count": 29,
      "metadata": {
        "id": "3dyDLzIDS9U6"
      },
      "outputs": [
        {
          "name": "stdout",
          "output_type": "stream",
          "text": [
            "94/94 [==============================] - 0s 1ms/step\n"
          ]
        }
      ],
      "source": [
        "ypred=classifier.predict(xtest)"
      ]
    },
    {
      "cell_type": "code",
      "execution_count": 30,
      "metadata": {
        "id": "0x6P236iTo_8"
      },
      "outputs": [],
      "source": [
        "from sklearn.metrics import r2_score"
      ]
    },
    {
      "cell_type": "code",
      "execution_count": 31,
      "metadata": {
        "colab": {
          "base_uri": "https://localhost:8080/"
        },
        "id": "l6Svayje7Kiv",
        "outputId": "7a2853f0-f960-4b13-c384-d140cf8846ab"
      },
      "outputs": [
        {
          "data": {
            "text/plain": [
              "30.09876085470935"
            ]
          },
          "execution_count": 31,
          "metadata": {},
          "output_type": "execute_result"
        }
      ],
      "source": [
        "r2_score(ytest,ypred)*100"
      ]
    },
    {
      "cell_type": "code",
      "execution_count": null,
      "metadata": {},
      "outputs": [],
      "source": []
    }
  ],
  "metadata": {
    "colab": {
      "provenance": []
    },
    "kernelspec": {
      "display_name": "Python 3.9.5 64-bit",
      "language": "python",
      "name": "python3"
    },
    "language_info": {
      "codemirror_mode": {
        "name": "ipython",
        "version": 3
      },
      "file_extension": ".py",
      "mimetype": "text/x-python",
      "name": "python",
      "nbconvert_exporter": "python",
      "pygments_lexer": "ipython3",
      "version": "3.9.5"
    },
    "vscode": {
      "interpreter": {
        "hash": "52634da84371cba311ea128a5ea7cdc41ff074b781779e754b270ff9f8153cee"
      }
    }
  },
  "nbformat": 4,
  "nbformat_minor": 0
}
